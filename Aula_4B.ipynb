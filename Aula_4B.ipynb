{
 "cells": [
  {
   "cell_type": "markdown",
   "id": "49140004",
   "metadata": {},
   "source": [
    "# Dicionários:"
   ]
  },
  {
   "cell_type": "markdown",
   "id": "38366348",
   "metadata": {},
   "source": [
    "dicionário é uma estrutura de dados que permite armazenar e acessar valores por meio de chaves {chave:valor}"
   ]
  },
  {
   "cell_type": "code",
   "execution_count": 19,
   "id": "d7175c5e",
   "metadata": {},
   "outputs": [],
   "source": [
    "aluno = {'nome': 'Caio Moro', 'idade': 29, 'peso': 94, 'time':'palmeiras'}"
   ]
  },
  {
   "cell_type": "code",
   "execution_count": 5,
   "id": "350b1929",
   "metadata": {},
   "outputs": [
    {
     "name": "stdout",
     "output_type": "stream",
     "text": [
      "{'nome': 'Caio Moro', 'idade': 29, 'peso': 94, 'time': 'corinthians'}\n"
     ]
    }
   ],
   "source": [
    "print(aluno)"
   ]
  },
  {
   "cell_type": "code",
   "execution_count": 9,
   "id": "4fe16b4f",
   "metadata": {},
   "outputs": [
    {
     "name": "stdout",
     "output_type": "stream",
     "text": [
      "<class 'dict'>\n"
     ]
    }
   ],
   "source": [
    "#consulta o tipo de dado do objeto\n",
    "print(type(aluno))"
   ]
  },
  {
   "cell_type": "code",
   "execution_count": 14,
   "id": "68adfb69",
   "metadata": {},
   "outputs": [
    {
     "name": "stdout",
     "output_type": "stream",
     "text": [
      "29\n"
     ]
    }
   ],
   "source": [
    "print(aluno['idade'])"
   ]
  },
  {
   "cell_type": "code",
   "execution_count": 20,
   "id": "15a315e1",
   "metadata": {},
   "outputs": [
    {
     "name": "stdout",
     "output_type": "stream",
     "text": [
      "Ola,  Caio Moro ! fiquei sabendo que voce torce para o  palmeiras ... que pena esta jogando muito mal\n"
     ]
    }
   ],
   "source": [
    "print('Ola, ', aluno['nome'],'!','fiquei sabendo que voce torce para o ', aluno['time'],'... que pena esta jogando muito mal')"
   ]
  },
  {
   "cell_type": "markdown",
   "id": "e0a34830",
   "metadata": {},
   "source": [
    "### manipulacao de dicionarios\n"
   ]
  },
  {
   "cell_type": "code",
   "execution_count": 21,
   "id": "2619fd69",
   "metadata": {},
   "outputs": [],
   "source": [
    "#adicionando um item novo ao dicionario 'aluno'\n",
    "\n",
    "aluno['caracteristica'] = 'inteligente'"
   ]
  },
  {
   "cell_type": "code",
   "execution_count": 22,
   "id": "2d02704f",
   "metadata": {},
   "outputs": [
    {
     "name": "stdout",
     "output_type": "stream",
     "text": [
      "{'nome': 'Caio Moro', 'idade': 29, 'peso': 94, 'time': 'palmeiras', 'caracteristica': 'inteligente'}\n"
     ]
    }
   ],
   "source": [
    "print(aluno)"
   ]
  },
  {
   "cell_type": "code",
   "execution_count": 23,
   "id": "6b50a46b",
   "metadata": {},
   "outputs": [],
   "source": [
    "#deletar um item no dicionario 'aluno'\n",
    "del aluno['time']"
   ]
  },
  {
   "cell_type": "code",
   "execution_count": 24,
   "id": "8d292686",
   "metadata": {},
   "outputs": [
    {
     "name": "stdout",
     "output_type": "stream",
     "text": [
      "{'nome': 'Caio Moro', 'idade': 29, 'peso': 94, 'caracteristica': 'inteligente'}\n"
     ]
    }
   ],
   "source": [
    "print(aluno)\n"
   ]
  },
  {
   "cell_type": "code",
   "execution_count": 30,
   "id": "13982f28",
   "metadata": {},
   "outputs": [],
   "source": [
    "# dicionarios aninhados: onde os valores de um dicionario sao outros dicionarios\n",
    "escola = {\n",
    "           'classe':aluno\n",
    "    \n",
    "    \n",
    "}"
   ]
  },
  {
   "cell_type": "code",
   "execution_count": 26,
   "id": "d152cb04",
   "metadata": {},
   "outputs": [
    {
     "name": "stdout",
     "output_type": "stream",
     "text": [
      "{'classe': {'nome': 'Caio Moro', 'idade': 29, 'peso': 94, 'caracteristica': 'inteligente'}}\n"
     ]
    }
   ],
   "source": [
    "print(escola)"
   ]
  },
  {
   "cell_type": "code",
   "execution_count": 27,
   "id": "5f0cb603",
   "metadata": {},
   "outputs": [
    {
     "name": "stdout",
     "output_type": "stream",
     "text": [
      "inteligente\n"
     ]
    }
   ],
   "source": [
    "#como acessar elementos em dicionarios aninhados usando varias chaves\n",
    "print(escola['classe']['caracteristica'])"
   ]
  },
  {
   "cell_type": "code",
   "execution_count": 28,
   "id": "3013ea98",
   "metadata": {},
   "outputs": [],
   "source": [
    "escola['professor'] = 'Roberto'"
   ]
  },
  {
   "cell_type": "code",
   "execution_count": 29,
   "id": "98df7083",
   "metadata": {},
   "outputs": [
    {
     "name": "stdout",
     "output_type": "stream",
     "text": [
      "{'classe': {'nome': 'Caio Moro', 'idade': 29, 'peso': 94, 'caracteristica': 'inteligente'}, 'professor': 'Roberto'}\n"
     ]
    }
   ],
   "source": [
    "print(escola)"
   ]
  },
  {
   "cell_type": "code",
   "execution_count": 33,
   "id": "047c4ce3",
   "metadata": {},
   "outputs": [],
   "source": [
    "# usando uma lista dentro de um dicionario\n",
    "compras_da_semana = {\n",
    "    'congelados':['frango','nuggets','hamburguer','sorvete','bisteca'],\n",
    "    'feira': ['tomate','alface','repolho','laranja','rabanete'],\n",
    "    'produtos de limpeza': ['veja','candida','detergente'],\n",
    "    'mantimentos':['arroz','feijao',{'macarrao':'dona benta'}]\n",
    "    }"
   ]
  },
  {
   "cell_type": "code",
   "execution_count": 34,
   "id": "ce89dd86",
   "metadata": {},
   "outputs": [
    {
     "name": "stdout",
     "output_type": "stream",
     "text": [
      "<class 'dict'>\n"
     ]
    }
   ],
   "source": [
    "print(type(compras_da_semana))"
   ]
  },
  {
   "cell_type": "code",
   "execution_count": 35,
   "id": "a112d8a2",
   "metadata": {},
   "outputs": [
    {
     "name": "stdout",
     "output_type": "stream",
     "text": [
      "4\n"
     ]
    }
   ],
   "source": [
    "# quantidade de itens dentro de um dicionario: funcao len()\n",
    "print(len(compras_da_semana))"
   ]
  },
  {
   "cell_type": "code",
   "execution_count": 44,
   "id": "5c27b3c8",
   "metadata": {},
   "outputs": [
    {
     "name": "stdout",
     "output_type": "stream",
     "text": [
      "['veja', 'candida', 'detergente']\n"
     ]
    }
   ],
   "source": [
    "# acessando o valor de uma chave especifica dentro do dicionario\n",
    "\n",
    "karina = compras_da_semana.get('produtos de limpeza', 'nao existe')\n",
    "print(karina)"
   ]
  },
  {
   "cell_type": "code",
   "execution_count": 46,
   "id": "e45df465",
   "metadata": {},
   "outputs": [
    {
     "name": "stdout",
     "output_type": "stream",
     "text": [
      "nao existe\n"
     ]
    }
   ],
   "source": [
    "\n",
    "caio = compras_da_semana.get('pneu de carro', 'nao existe')\n",
    "print(caio)"
   ]
  },
  {
   "cell_type": "code",
   "execution_count": 47,
   "id": "6af5e33c",
   "metadata": {},
   "outputs": [],
   "source": [
    "compras_da_semana['carro'] = 'pneu de carro'"
   ]
  },
  {
   "cell_type": "code",
   "execution_count": 49,
   "id": "f150655a",
   "metadata": {},
   "outputs": [
    {
     "name": "stdout",
     "output_type": "stream",
     "text": [
      "pneu de carro\n"
     ]
    }
   ],
   "source": [
    "caio = compras_da_semana.get('carro', 'nao existe')\n",
    "print(caio)"
   ]
  }
 ],
 "metadata": {
  "kernelspec": {
   "display_name": "Python 3 (ipykernel)",
   "language": "python",
   "name": "python3"
  },
  "language_info": {
   "codemirror_mode": {
    "name": "ipython",
    "version": 3
   },
   "file_extension": ".py",
   "mimetype": "text/x-python",
   "name": "python",
   "nbconvert_exporter": "python",
   "pygments_lexer": "ipython3",
   "version": "3.10.9"
  }
 },
 "nbformat": 4,
 "nbformat_minor": 5
}
