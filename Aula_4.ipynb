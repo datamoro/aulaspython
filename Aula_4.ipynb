{
 "cells": [
  {
   "cell_type": "markdown",
   "id": "ffcb1d5b",
   "metadata": {},
   "source": [
    "# Dicionários:"
   ]
  },
  {
   "cell_type": "markdown",
   "id": "ab157e1b",
   "metadata": {},
   "source": [
    "dicionário é uma estrutura de dados que permite armazenar e acessar valores por meio de chaves {chave:valor}"
   ]
  },
  {
   "cell_type": "code",
   "execution_count": 19,
   "id": "783f0171",
   "metadata": {},
   "outputs": [],
   "source": [
    "aluno = {'nome': 'Caio Moro', 'idade': 29, 'peso': 94, 'time':'palmeiras'}"
   ]
  },
  {
   "cell_type": "code",
   "execution_count": 5,
   "id": "886f2444",
   "metadata": {},
   "outputs": [
    {
     "name": "stdout",
     "output_type": "stream",
     "text": [
      "{'nome': 'Caio Moro', 'idade': 29, 'peso': 94, 'time': 'corinthians'}\n"
     ]
    }
   ],
   "source": [
    "print(aluno)"
   ]
  },
  {
   "cell_type": "code",
   "execution_count": 9,
   "id": "d57a0dac",
   "metadata": {},
   "outputs": [
    {
     "name": "stdout",
     "output_type": "stream",
     "text": [
      "<class 'dict'>\n"
     ]
    }
   ],
   "source": [
    "#consulta o tipo de dado do objeto\n",
    "print(type(aluno))"
   ]
  },
  {
   "cell_type": "code",
   "execution_count": 14,
   "id": "33b3b2d2",
   "metadata": {},
   "outputs": [
    {
     "name": "stdout",
     "output_type": "stream",
     "text": [
      "29\n"
     ]
    }
   ],
   "source": [
    "print(aluno['idade'])"
   ]
  },
  {
   "cell_type": "code",
   "execution_count": 20,
   "id": "9267f117",
   "metadata": {},
   "outputs": [
    {
     "name": "stdout",
     "output_type": "stream",
     "text": [
      "Ola,  Caio Moro ! fiquei sabendo que voce torce para o  palmeiras ... que pena esta jogando muito mal\n"
     ]
    }
   ],
   "source": [
    "print('Ola, ', aluno['nome'],'!','fiquei sabendo que voce torce para o ', aluno['time'],'... que pena esta jogando muito mal')"
   ]
  },
  {
   "cell_type": "markdown",
   "id": "732df3bd",
   "metadata": {},
   "source": [
    "### manipulacao de dicionarios\n"
   ]
  },
  {
   "cell_type": "code",
   "execution_count": 21,
   "id": "d6287708",
   "metadata": {},
   "outputs": [],
   "source": [
    "#adicionando um item novo ao dicionario 'aluno'\n",
    "\n",
    "aluno['caracteristica'] = 'inteligente'"
   ]
  },
  {
   "cell_type": "code",
   "execution_count": 22,
   "id": "03173c9c",
   "metadata": {},
   "outputs": [
    {
     "name": "stdout",
     "output_type": "stream",
     "text": [
      "{'nome': 'Caio Moro', 'idade': 29, 'peso': 94, 'time': 'palmeiras', 'caracteristica': 'inteligente'}\n"
     ]
    }
   ],
   "source": [
    "print(aluno)"
   ]
  },
  {
   "cell_type": "code",
   "execution_count": 23,
   "id": "b1590c21",
   "metadata": {},
   "outputs": [],
   "source": [
    "#deletar um item no dicionario 'aluno'\n",
    "del aluno['time']"
   ]
  },
  {
   "cell_type": "code",
   "execution_count": 24,
   "id": "c9c8dab4",
   "metadata": {},
   "outputs": [
    {
     "name": "stdout",
     "output_type": "stream",
     "text": [
      "{'nome': 'Caio Moro', 'idade': 29, 'peso': 94, 'caracteristica': 'inteligente'}\n"
     ]
    }
   ],
   "source": [
    "print(aluno)\n"
   ]
  },
  {
   "cell_type": "code",
   "execution_count": 30,
   "id": "c8ddb2e7",
   "metadata": {},
   "outputs": [],
   "source": [
    "# dicionarios aninhados: onde os valores de um dicionario sao outros dicionarios\n",
    "escola = {\n",
    "           'classe':aluno\n",
    "    \n",
    "    \n",
    "}"
   ]
  },
  {
   "cell_type": "code",
   "execution_count": 26,
   "id": "8492371b",
   "metadata": {},
   "outputs": [
    {
     "name": "stdout",
     "output_type": "stream",
     "text": [
      "{'classe': {'nome': 'Caio Moro', 'idade': 29, 'peso': 94, 'caracteristica': 'inteligente'}}\n"
     ]
    }
   ],
   "source": [
    "print(escola)"
   ]
  },
  {
   "cell_type": "code",
   "execution_count": 27,
   "id": "1183657f",
   "metadata": {},
   "outputs": [
    {
     "name": "stdout",
     "output_type": "stream",
     "text": [
      "inteligente\n"
     ]
    }
   ],
   "source": [
    "#como acessar elementos em dicionarios aninhados usando varias chaves\n",
    "print(escola['classe']['caracteristica'])"
   ]
  },
  {
   "cell_type": "code",
   "execution_count": 28,
   "id": "6799607f",
   "metadata": {},
   "outputs": [],
   "source": [
    "escola['professor'] = 'Roberto'"
   ]
  },
  {
   "cell_type": "code",
   "execution_count": 29,
   "id": "5739eb55",
   "metadata": {},
   "outputs": [
    {
     "name": "stdout",
     "output_type": "stream",
     "text": [
      "{'classe': {'nome': 'Caio Moro', 'idade': 29, 'peso': 94, 'caracteristica': 'inteligente'}, 'professor': 'Roberto'}\n"
     ]
    }
   ],
   "source": [
    "print(escola)"
   ]
  },
  {
   "cell_type": "code",
   "execution_count": 33,
   "id": "51be502a",
   "metadata": {},
   "outputs": [],
   "source": [
    "# usando uma lista dentro de um dicionario\n",
    "compras_da_semana = {\n",
    "    'congelados':['frango','nuggets','hamburguer','sorvete','bisteca'],\n",
    "    'feira': ['tomate','alface','repolho','laranja','rabanete'],\n",
    "    'produtos de limpeza': ['veja','candida','detergente'],\n",
    "    'mantimentos':['arroz','feijao',{'macarrao':'dona benta'}]\n",
    "    }"
   ]
  },
  {
   "cell_type": "code",
   "execution_count": 34,
   "id": "79e1fb6c",
   "metadata": {},
   "outputs": [
    {
     "name": "stdout",
     "output_type": "stream",
     "text": [
      "<class 'dict'>\n"
     ]
    }
   ],
   "source": [
    "print(type(compras_da_semana))"
   ]
  },
  {
   "cell_type": "code",
   "execution_count": 35,
   "id": "22126a5c",
   "metadata": {},
   "outputs": [
    {
     "name": "stdout",
     "output_type": "stream",
     "text": [
      "4\n"
     ]
    }
   ],
   "source": [
    "# quantidade de itens dentro de um dicionario: funcao len()\n",
    "print(len(compras_da_semana))"
   ]
  },
  {
   "cell_type": "code",
   "execution_count": 44,
   "id": "9a36bd01",
   "metadata": {},
   "outputs": [
    {
     "name": "stdout",
     "output_type": "stream",
     "text": [
      "['veja', 'candida', 'detergente']\n"
     ]
    }
   ],
   "source": [
    "# acessando o valor de uma chave especifica dentro do dicionario\n",
    "\n",
    "karina = compras_da_semana.get('produtos de limpeza', 'nao existe')\n",
    "print(karina)"
   ]
  },
  {
   "cell_type": "code",
   "execution_count": 46,
   "id": "9bdac849",
   "metadata": {},
   "outputs": [
    {
     "name": "stdout",
     "output_type": "stream",
     "text": [
      "nao existe\n"
     ]
    }
   ],
   "source": [
    "\n",
    "caio = compras_da_semana.get('pneu de carro', 'nao existe')\n",
    "print(caio)"
   ]
  },
  {
   "cell_type": "code",
   "execution_count": 47,
   "id": "f624f10d",
   "metadata": {},
   "outputs": [],
   "source": [
    "compras_da_semana['carro'] = 'pneu de carro'"
   ]
  },
  {
   "cell_type": "code",
   "execution_count": 49,
   "id": "271695af",
   "metadata": {},
   "outputs": [
    {
     "name": "stdout",
     "output_type": "stream",
     "text": [
      "pneu de carro\n"
     ]
    }
   ],
   "source": [
    "caio = compras_da_semana.get('carro', 'nao existe')\n",
    "print(caio)"
   ]
  }
 ],
 "metadata": {
  "kernelspec": {
   "display_name": "Python 3 (ipykernel)",
   "language": "python",
   "name": "python3"
  },
  "language_info": {
   "codemirror_mode": {
    "name": "ipython",
    "version": 3
   },
   "file_extension": ".py",
   "mimetype": "text/x-python",
   "name": "python",
   "nbconvert_exporter": "python",
   "pygments_lexer": "ipython3",
   "version": "3.10.9"
  }
 },
 "nbformat": 4,
 "nbformat_minor": 5
}
