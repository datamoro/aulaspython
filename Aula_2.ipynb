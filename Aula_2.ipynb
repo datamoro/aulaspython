{
 "cells": [
  {
   "cell_type": "code",
   "execution_count": 2,
   "id": "96919989",
   "metadata": {},
   "outputs": [],
   "source": [
    "estojo = ['lapis','caneta','tesoura','borracha']"
   ]
  },
  {
   "cell_type": "code",
   "execution_count": 3,
   "id": "9a7af366",
   "metadata": {},
   "outputs": [
    {
     "name": "stdout",
     "output_type": "stream",
     "text": [
      "['lapis', 'caneta', 'tesoura', 'borracha']\n"
     ]
    }
   ],
   "source": [
    "print(estojo)"
   ]
  },
  {
   "cell_type": "code",
   "execution_count": 4,
   "id": "51de3a4c",
   "metadata": {},
   "outputs": [],
   "source": [
    "mochila = ['caderno','apostila','regua','calculadora',estojo]"
   ]
  },
  {
   "cell_type": "code",
   "execution_count": 5,
   "id": "247da171",
   "metadata": {},
   "outputs": [
    {
     "name": "stdout",
     "output_type": "stream",
     "text": [
      "['caderno', 'apostila', 'regua', 'calculadora', ['lapis', 'caneta', 'tesoura', 'borracha']]\n"
     ]
    }
   ],
   "source": [
    "print(mochila)"
   ]
  },
  {
   "cell_type": "code",
   "execution_count": 21,
   "id": "d936248d",
   "metadata": {},
   "outputs": [],
   "source": [
    "#deletar o primeiro item da lista estojo\n",
    "del estojo[0]"
   ]
  },
  {
   "cell_type": "code",
   "execution_count": 15,
   "id": "1bcbf2d3",
   "metadata": {},
   "outputs": [
    {
     "name": "stdout",
     "output_type": "stream",
     "text": [
      "[]\n"
     ]
    }
   ],
   "source": [
    "print(estojo)"
   ]
  },
  {
   "cell_type": "code",
   "execution_count": 11,
   "id": "439ca1f7",
   "metadata": {},
   "outputs": [
    {
     "name": "stdout",
     "output_type": "stream",
     "text": [
      "tesoura\n"
     ]
    }
   ],
   "source": [
    "print(estojo[0])"
   ]
  },
  {
   "cell_type": "code",
   "execution_count": 16,
   "id": "942743e4",
   "metadata": {},
   "outputs": [],
   "source": [
    "estojo.append('lapis')"
   ]
  },
  {
   "cell_type": "code",
   "execution_count": 17,
   "id": "565bbd2f",
   "metadata": {},
   "outputs": [
    {
     "name": "stdout",
     "output_type": "stream",
     "text": [
      "['lapis']\n"
     ]
    }
   ],
   "source": [
    "print(estojo)"
   ]
  },
  {
   "cell_type": "code",
   "execution_count": 19,
   "id": "19dc1a2d",
   "metadata": {},
   "outputs": [],
   "source": [
    "#comprei uma caneta\n",
    "\n",
    "estojo.append('caneta azul')"
   ]
  },
  {
   "cell_type": "code",
   "execution_count": 20,
   "id": "1fd5f2d2",
   "metadata": {},
   "outputs": [
    {
     "name": "stdout",
     "output_type": "stream",
     "text": [
      "['lapis', 'caneta azul']\n"
     ]
    }
   ],
   "source": [
    "print(estojo)"
   ]
  },
  {
   "cell_type": "code",
   "execution_count": 22,
   "id": "d14039e0",
   "metadata": {},
   "outputs": [],
   "source": [
    "numeros_mega = [56,14,23,4,5,49]"
   ]
  },
  {
   "cell_type": "code",
   "execution_count": 28,
   "id": "07fbc113",
   "metadata": {},
   "outputs": [],
   "source": [
    "#ordenar do menor pro maior\n",
    "\n",
    "numeros_mega.sort()"
   ]
  },
  {
   "cell_type": "code",
   "execution_count": 29,
   "id": "14bfeace",
   "metadata": {},
   "outputs": [
    {
     "name": "stdout",
     "output_type": "stream",
     "text": [
      "[4, 5, 14, 23, 49, 56]\n"
     ]
    }
   ],
   "source": [
    "print(numeros_mega)"
   ]
  },
  {
   "cell_type": "code",
   "execution_count": 34,
   "id": "dee4f872",
   "metadata": {},
   "outputs": [],
   "source": [
    "#ordenar do maior para o menor\n",
    "\n",
    "numeros_mega.sort()"
   ]
  },
  {
   "cell_type": "code",
   "execution_count": 35,
   "id": "bd904c83",
   "metadata": {},
   "outputs": [
    {
     "name": "stdout",
     "output_type": "stream",
     "text": [
      "[4, 5, 14, 23, 49, 56]\n"
     ]
    }
   ],
   "source": [
    "print(numeros_mega)"
   ]
  },
  {
   "cell_type": "code",
   "execution_count": 36,
   "id": "a2483b03",
   "metadata": {},
   "outputs": [],
   "source": [
    "lista_alunos = ['roberto','plinio','antonio','euzebio','malaquias']"
   ]
  },
  {
   "cell_type": "code",
   "execution_count": 39,
   "id": "9ce43acc",
   "metadata": {},
   "outputs": [],
   "source": [
    "lista_alunos.sort()"
   ]
  },
  {
   "cell_type": "code",
   "execution_count": 40,
   "id": "bbfd197d",
   "metadata": {},
   "outputs": [
    {
     "name": "stdout",
     "output_type": "stream",
     "text": [
      "['antonio', 'euzebio', 'malaquias', 'plinio', 'roberto']\n"
     ]
    }
   ],
   "source": [
    "print(lista_alunos)"
   ]
  },
  {
   "cell_type": "code",
   "execution_count": 41,
   "id": "dab0e671",
   "metadata": {},
   "outputs": [],
   "source": [
    "#adicionar item a uma lista no final\n",
    "\n",
    "lista_alunos.append('braulio')"
   ]
  },
  {
   "cell_type": "code",
   "execution_count": 43,
   "id": "559789ab",
   "metadata": {},
   "outputs": [],
   "source": [
    "#adicionar item a uma lista numa posicao especifica\n",
    "\n",
    "lista_alunos.insert(2,'mario')"
   ]
  },
  {
   "cell_type": "code",
   "execution_count": 44,
   "id": "250cd171",
   "metadata": {},
   "outputs": [
    {
     "name": "stdout",
     "output_type": "stream",
     "text": [
      "['antonio', 'euzebio', 'mario', 'malaquias', 'plinio', 'roberto', 'braulio']\n"
     ]
    }
   ],
   "source": [
    "print(lista_alunos)"
   ]
  },
  {
   "cell_type": "code",
   "execution_count": 45,
   "id": "f1dcae25",
   "metadata": {},
   "outputs": [
    {
     "name": "stdout",
     "output_type": "stream",
     "text": [
      "5\n"
     ]
    }
   ],
   "source": [
    "#identificar qual a posicao de determinado item na lista\n",
    "\n",
    "#pergunta: qual a posicao do roberto?\n",
    "\n",
    "print(lista_alunos.index('roberto'))\n"
   ]
  },
  {
   "cell_type": "code",
   "execution_count": 46,
   "id": "6191f79b",
   "metadata": {},
   "outputs": [],
   "source": [
    "lista_alunos.sort()"
   ]
  },
  {
   "cell_type": "code",
   "execution_count": 47,
   "id": "9b7f06b1",
   "metadata": {},
   "outputs": [
    {
     "name": "stdout",
     "output_type": "stream",
     "text": [
      "6\n"
     ]
    }
   ],
   "source": [
    "print(lista_alunos.index('roberto'))"
   ]
  },
  {
   "cell_type": "code",
   "execution_count": 50,
   "id": "85efc304",
   "metadata": {},
   "outputs": [],
   "source": [
    "# contar quantos itens eu tenho na lista\n",
    "\n",
    "qtd_alunos = len(lista_alunos)      "
   ]
  },
  {
   "cell_type": "code",
   "execution_count": 51,
   "id": "441f8c30",
   "metadata": {},
   "outputs": [
    {
     "name": "stdout",
     "output_type": "stream",
     "text": [
      "7\n"
     ]
    }
   ],
   "source": [
    "print(qtd_alunos)"
   ]
  }
 ],
 "metadata": {
  "kernelspec": {
   "display_name": "Python 3 (ipykernel)",
   "language": "python",
   "name": "python3"
  },
  "language_info": {
   "codemirror_mode": {
    "name": "ipython",
    "version": 3
   },
   "file_extension": ".py",
   "mimetype": "text/x-python",
   "name": "python",
   "nbconvert_exporter": "python",
   "pygments_lexer": "ipython3",
   "version": "3.10.9"
  }
 },
 "nbformat": 4,
 "nbformat_minor": 5
}
