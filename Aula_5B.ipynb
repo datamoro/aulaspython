{
 "cells": [
  {
   "cell_type": "markdown",
   "id": "74c7eea0",
   "metadata": {},
   "source": [
    "# Tuplas e Conjuntos\n",
    "\n"
   ]
  },
  {
   "cell_type": "markdown",
   "id": "f2ddf2a2",
   "metadata": {},
   "source": [
    "### Tupla:\n",
    "Uma tupla é uma estrutura de dados cuja principal é característica que seus elementos NÃO PODEM SER ALTERADOS, ADICIONADOS ou REMOVIDOS após criada.\n",
    "Para identificar e definir uma tupla, devemos colocar elementos entre parênteses, separando-os por vírgulas.\n"
   ]
  },
  {
   "cell_type": "markdown",
   "id": "b718235d",
   "metadata": {},
   "source": [
    "uma empresa, no momento de uma venda, registra o nome e o cpf do cliente. Esse cpf nao pode ser alterado ou utilizado em outro nome.\n",
    "Uma tupla serviria para impedir essa fraude"
   ]
  },
  {
   "cell_type": "code",
   "execution_count": 6,
   "id": "a1100c42",
   "metadata": {},
   "outputs": [],
   "source": [
    "dados_cliente = (\"123.456.789-00\",\"Caio Moro\")"
   ]
  },
  {
   "cell_type": "code",
   "execution_count": 9,
   "id": "9c60e299",
   "metadata": {},
   "outputs": [
    {
     "name": "stdout",
     "output_type": "stream",
     "text": [
      "Caio Moro\n",
      "123.456.789-00\n"
     ]
    }
   ],
   "source": [
    "# acessando os elementos\n",
    "nome_cliente = dados_cliente[1]\n",
    "cpf_cliente = dados_cliente[0]\n",
    "\n",
    "print(nome_cliente)\n",
    "print(cpf_cliente)"
   ]
  },
  {
   "cell_type": "code",
   "execution_count": 12,
   "id": "32cb9aed",
   "metadata": {},
   "outputs": [
    {
     "name": "stdout",
     "output_type": "stream",
     "text": [
      "o cliente cujo cpf é: 123.456.789-00 se chama  Caio Moro\n"
     ]
    }
   ],
   "source": [
    "print(\"o cliente cujo cpf é:\", dados_cliente[0], \"se chama \", dados_cliente[1])"
   ]
  },
  {
   "cell_type": "code",
   "execution_count": 13,
   "id": "b9514303",
   "metadata": {},
   "outputs": [
    {
     "ename": "TypeError",
     "evalue": "'tuple' object does not support item assignment",
     "output_type": "error",
     "traceback": [
      "\u001b[1;31m---------------------------------------------------------------------------\u001b[0m",
      "\u001b[1;31mTypeError\u001b[0m                                 Traceback (most recent call last)",
      "Cell \u001b[1;32mIn[13], line 3\u001b[0m\n\u001b[0;32m      1\u001b[0m \u001b[38;5;66;03m#tentativa de alteracao da tupla: CAUSARÁ UM ERRO\u001b[39;00m\n\u001b[1;32m----> 3\u001b[0m dados_cliente[\u001b[38;5;241m1\u001b[39m] \u001b[38;5;241m=\u001b[39m \u001b[38;5;124m'\u001b[39m\u001b[38;5;124mJailson Moreira\u001b[39m\u001b[38;5;124m'\u001b[39m\n",
      "\u001b[1;31mTypeError\u001b[0m: 'tuple' object does not support item assignment"
     ]
    }
   ],
   "source": [
    "#tentativa de alteracao da tupla: CAUSARÁ UM ERRO\n",
    "\n",
    "dados_cliente[1] = 'Jailson Moreira'"
   ]
  },
  {
   "cell_type": "code",
   "execution_count": 16,
   "id": "e1b73d68",
   "metadata": {},
   "outputs": [
    {
     "ename": "TypeError",
     "evalue": "'tuple' object does not support item assignment",
     "output_type": "error",
     "traceback": [
      "\u001b[1;31m---------------------------------------------------------------------------\u001b[0m",
      "\u001b[1;31mTypeError\u001b[0m                                 Traceback (most recent call last)",
      "Cell \u001b[1;32mIn[16], line 1\u001b[0m\n\u001b[1;32m----> 1\u001b[0m dados_cliente[\u001b[38;5;241m2\u001b[39m] \u001b[38;5;241m=\u001b[39m \u001b[38;5;124m'\u001b[39m\u001b[38;5;124m+1857-340-0730\u001b[39m\u001b[38;5;124m'\u001b[39m\n",
      "\u001b[1;31mTypeError\u001b[0m: 'tuple' object does not support item assignment"
     ]
    }
   ],
   "source": [
    "#tentativa de adicionar item a tupla: CAUSARÁ UM ERRO\n",
    "dados_cliente[2] = '+1857-340-0730'"
   ]
  },
  {
   "cell_type": "code",
   "execution_count": 17,
   "id": "730897f3",
   "metadata": {
    "scrolled": true
   },
   "outputs": [
    {
     "ename": "TypeError",
     "evalue": "'tuple' object doesn't support item deletion",
     "output_type": "error",
     "traceback": [
      "\u001b[1;31m---------------------------------------------------------------------------\u001b[0m",
      "\u001b[1;31mTypeError\u001b[0m                                 Traceback (most recent call last)",
      "Cell \u001b[1;32mIn[17], line 2\u001b[0m\n\u001b[0;32m      1\u001b[0m \u001b[38;5;66;03m#tentativa de deletar item da tupla: CAUSARÁ UM ERRO\u001b[39;00m\n\u001b[1;32m----> 2\u001b[0m \u001b[38;5;28;01mdel\u001b[39;00m dados_cliente[\u001b[38;5;241m0\u001b[39m]\n",
      "\u001b[1;31mTypeError\u001b[0m: 'tuple' object doesn't support item deletion"
     ]
    }
   ],
   "source": [
    "#tentativa de deletar item da tupla: CAUSARÁ UM ERRO\n",
    "del dados_cliente[0]"
   ]
  },
  {
   "cell_type": "markdown",
   "id": "2210bf4f",
   "metadata": {},
   "source": [
    "### Exemplo de aplicacao de tupla\n"
   ]
  },
  {
   "cell_type": "code",
   "execution_count": 28,
   "id": "dab230d7",
   "metadata": {},
   "outputs": [],
   "source": [
    "\n",
    "estados = [\n",
    "           (\"São Paulo\",'SP'),\n",
    "           (\"Mato Grosso\",'MT'),\n",
    "           (\"Rio Grande do Norte\",'RN')        \n",
    "          ]"
   ]
  },
  {
   "cell_type": "code",
   "execution_count": 29,
   "id": "75a688e8",
   "metadata": {},
   "outputs": [
    {
     "name": "stdout",
     "output_type": "stream",
     "text": [
      "digite o estado a ser pesquisado: SP\n"
     ]
    }
   ],
   "source": [
    "estado_pesquisado = input(\"digite o estado a ser pesquisado: \")"
   ]
  },
  {
   "cell_type": "code",
   "execution_count": 26,
   "id": "484ee30b",
   "metadata": {},
   "outputs": [],
   "source": [
    "sigla_encontrada = None"
   ]
  },
  {
   "cell_type": "code",
   "execution_count": 27,
   "id": "52fc5160",
   "metadata": {},
   "outputs": [
    {
     "name": "stdout",
     "output_type": "stream",
     "text": [
      "não existe registro para o estado pesquisado: Massachusetts\n"
     ]
    }
   ],
   "source": [
    "for estado, sigla in estados:\n",
    "    if estado == estado_pesquisado:\n",
    "        sigla_encontrada = sigla\n",
    "        break\n",
    "        \n",
    "if sigla_encontrada:\n",
    "    print(\"o estado pesquisado foi\", estado_pesquisado, \"e sua sigla é:\", sigla_encontrada)\n",
    "else:\n",
    "    print(\"não existe registro para o estado pesquisado:\",estado_pesquisado)"
   ]
  },
  {
   "cell_type": "markdown",
   "id": "ea2d6549",
   "metadata": {},
   "source": [
    "### Conjuntos\n",
    "\n",
    "Um conjunto é uma coleção de elementos cuja propriedade principal é que seus elementos são ÚNICOS, ou seja, não se permite armazenar elementos duplicados.\n",
    "\n",
    "Além disso, os conjuntos podem ser usados em operações matemáticas como UNIÃO, INTERSECÇÃO e DIFERENÇA entre conjuntos.\n",
    "\n",
    "Para definir um conjunto, utiliza-se CHAVES {  } e seus itens são separados por vírgulas.\n",
    "Também pode definir um conjunto com a função <b>set()</b>."
   ]
  },
  {
   "cell_type": "code",
   "execution_count": 41,
   "id": "b74e4f3b",
   "metadata": {},
   "outputs": [],
   "source": [
    "conjunto_numeros = {34,35,46,53,12,6,2,9999}\n"
   ]
  },
  {
   "cell_type": "code",
   "execution_count": 42,
   "id": "2fd76705",
   "metadata": {},
   "outputs": [
    {
     "name": "stdout",
     "output_type": "stream",
     "text": [
      "<class 'set'>\n"
     ]
    }
   ],
   "source": [
    "print(type(conjunto_numeros))"
   ]
  },
  {
   "cell_type": "code",
   "execution_count": 48,
   "id": "f45b72a8",
   "metadata": {},
   "outputs": [
    {
     "name": "stdout",
     "output_type": "stream",
     "text": [
      "{34, 35, 2, 53, 6, 12, 46, 9999}\n"
     ]
    }
   ],
   "source": [
    "# teste de adicionar um elemento já repetido usando a funcao add()\n",
    "conjunto_numeros.add(35)\n",
    "conjunto_numeros.add(46)\n",
    "\n",
    "print(conjunto_numeros)"
   ]
  },
  {
   "cell_type": "code",
   "execution_count": 49,
   "id": "968382e9",
   "metadata": {},
   "outputs": [],
   "source": [
    "novo_conjunto = {\"banana\",\"Jonas\", 4.5789, \"Joaquim\", \"Nike\",5}"
   ]
  },
  {
   "cell_type": "code",
   "execution_count": 51,
   "id": "9a672943",
   "metadata": {},
   "outputs": [
    {
     "name": "stdout",
     "output_type": "stream",
     "text": [
      "{2, 'Nike', 5, 6, 4.5789, 12, 'banana', 9999, 34, 35, 'Joaquim', 46, 'Jonas', 53}\n"
     ]
    }
   ],
   "source": [
    "# adicionando o novo_conjunto ao conjunto_numeros (operacao de uniao)\n",
    "\n",
    "conjunto_numeros.update(novo_conjunto)\n",
    "print(conjunto_numeros)"
   ]
  },
  {
   "cell_type": "code",
   "execution_count": 52,
   "id": "9d84bd2c",
   "metadata": {},
   "outputs": [
    {
     "name": "stdout",
     "output_type": "stream",
     "text": [
      "interseccao de conjuntos:\n",
      "\n",
      "{2, 35, 46}\n"
     ]
    }
   ],
   "source": [
    "# exemplo de interseccao do conjunto_numeros com um outro conjunto chamado int_conjunto\n",
    "\n",
    "#criando um conjunto\n",
    "int_conjunto = {2,35,46,100,\"besouro\"}\n",
    "\n",
    "#operacao de interseccao\n",
    "\n",
    "interseccao = conjunto_numeros.intersection(int_conjunto)\n",
    "\n",
    "\n",
    "print(\"interseccao de conjuntos:\\n\")\n",
    "print(interseccao)"
   ]
  },
  {
   "cell_type": "code",
   "execution_count": 62,
   "id": "1acf9e0b",
   "metadata": {},
   "outputs": [
    {
     "name": "stdout",
     "output_type": "stream",
     "text": [
      "diferenca de conjuntos:\n",
      "{34, 4.5789, 'Nike', 5, 6, 'Joaquim', 12, 'banana', 9999, 'Jonas', 53}\n"
     ]
    }
   ],
   "source": [
    "# exemplo de diferenca de conjunto_numeros e int_conjuntos\n",
    "\n",
    "diferenca_conjunto = conjunto_numeros.difference(int_conjunto)\n",
    "\n",
    "print(\"diferenca de conjuntos:\")\n",
    "print(diferenca_conjunto)"
   ]
  }
 ],
 "metadata": {
  "kernelspec": {
   "display_name": "Python 3 (ipykernel)",
   "language": "python",
   "name": "python3"
  },
  "language_info": {
   "codemirror_mode": {
    "name": "ipython",
    "version": 3
   },
   "file_extension": ".py",
   "mimetype": "text/x-python",
   "name": "python",
   "nbconvert_exporter": "python",
   "pygments_lexer": "ipython3",
   "version": "3.10.9"
  }
 },
 "nbformat": 4,
 "nbformat_minor": 5
}
