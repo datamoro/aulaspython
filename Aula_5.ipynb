{
 "cells": [
  {
   "cell_type": "markdown",
   "id": "f6f959bd",
   "metadata": {},
   "source": [
    "# Tuplas e Conjuntos\n"
   ]
  },
  {
   "cell_type": "markdown",
   "id": "5079d3f7",
   "metadata": {},
   "source": [
    "Uma tupla é uma estrutura de dados cuja principal é característica que seus elementos NÃO PODEM SER ALTERADOS, ADICIONADOS ou REMOVIDOS após criada.\n",
    "Para identificar e definir uma tupla, devemos colocar elementos entre parênteses, separando-os por vírgulas."
   ]
  },
  {
   "cell_type": "markdown",
   "id": "11a8ebd6",
   "metadata": {},
   "source": [
    "Imagine que temos um sistema que calcula as comissões de venda de uma loja para 4 funcionários. Cada funcionário tem a sua própria taxa de comissão, devido ao tempo da casa:"
   ]
  },
  {
   "cell_type": "code",
   "execution_count": 1,
   "id": "2532d84e",
   "metadata": {},
   "outputs": [],
   "source": [
    "comissoes = [\n",
    "             (\"João\",0.08),    #item 0\n",
    "             (\"Marcelo\", 0.06), #item 1\n",
    "             (\"Henrique\", 0.04), #item 2\n",
    "             (\"Ricardo\", 0.03)   #item 3\n",
    "            ]"
   ]
  },
  {
   "cell_type": "code",
   "execution_count": 2,
   "id": "7c8a1da5",
   "metadata": {},
   "outputs": [
    {
     "name": "stdout",
     "output_type": "stream",
     "text": [
      "diga o nome do vendedor: João\n"
     ]
    }
   ],
   "source": [
    "vendedor = input(\"diga o nome do vendedor: \")"
   ]
  },
  {
   "cell_type": "code",
   "execution_count": 7,
   "id": "3e0e5b77",
   "metadata": {},
   "outputs": [
    {
     "name": "stdout",
     "output_type": "stream",
     "text": [
      "diga o valor da venda do vendedor: 1000.00\n"
     ]
    }
   ],
   "source": [
    "valor_venda = input(\"diga o valor da venda do vendedor: \")"
   ]
  },
  {
   "cell_type": "code",
   "execution_count": 8,
   "id": "fa2854d7",
   "metadata": {},
   "outputs": [],
   "source": [
    "# estrutura de repeticao\n",
    "\n",
    "for nome_vendedor, taxa_comissao in comissoes:\n",
    "    if vendedor == nome_vendedor:\n",
    "        valor_taxa =  taxa_comissao\n",
    "    else:\n",
    "        valor_taxa = 0.0"
   ]
  },
  {
   "cell_type": "code",
   "execution_count": 9,
   "id": "70d71b1c",
   "metadata": {},
   "outputs": [],
   "source": [
    "valor_comissao = float(valor_venda) * float(valor_taxa)"
   ]
  },
  {
   "cell_type": "code",
   "execution_count": 11,
   "id": "6c0712c1",
   "metadata": {},
   "outputs": [
    {
     "name": "stdout",
     "output_type": "stream",
     "text": [
      "0.03\n"
     ]
    }
   ],
   "source": [
    "print(taxa_comissao)"
   ]
  },
  {
   "cell_type": "code",
   "execution_count": 10,
   "id": "de70f446",
   "metadata": {},
   "outputs": [
    {
     "name": "stdout",
     "output_type": "stream",
     "text": [
      "o valor de comissao do João será: R$ 0.0\n"
     ]
    }
   ],
   "source": [
    "print(\"o valor de comissao do\", vendedor, \"será: R$\", valor_comissao)"
   ]
  }
 ],
 "metadata": {
  "kernelspec": {
   "display_name": "Python 3 (ipykernel)",
   "language": "python",
   "name": "python3"
  },
  "language_info": {
   "codemirror_mode": {
    "name": "ipython",
    "version": 3
   },
   "file_extension": ".py",
   "mimetype": "text/x-python",
   "name": "python",
   "nbconvert_exporter": "python",
   "pygments_lexer": "ipython3",
   "version": "3.10.9"
  }
 },
 "nbformat": 4,
 "nbformat_minor": 5
}
