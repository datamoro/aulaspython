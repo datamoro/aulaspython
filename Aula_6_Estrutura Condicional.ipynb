{
 "cells": [
  {
   "cell_type": "markdown",
   "id": "407fc5b1",
   "metadata": {},
   "source": [
    "### O que é uma estrutura condicional?\n",
    "\n",
    "Uma estrutura condicional é uma construção que avalia uma ou mais condições/expressões e toma uma decisão/ação com base no resultado dessa avaliação.\n",
    "\n",
    "A sintaxe geral da estrutura IF-ELSE em Python é:\n",
    "\n",
    "<b>if</b> condição: \n",
    "\n",
    "    #código a ser executado se a condição for verdadeira\n",
    "<b>else</b>: \n",
    "\n",
    "    #código a ser executado se a condição for falsa"
   ]
  },
  {
   "cell_type": "markdown",
   "id": "3bd6de2c",
   "metadata": {},
   "source": [
    "### Exemplo:\n",
    "\n",
    "vamos criar uma função que diz se você pode ou não consumir bebida alcoólica, avaliando a sua idade."
   ]
  },
  {
   "cell_type": "code",
   "execution_count": 5,
   "id": "782d821e",
   "metadata": {},
   "outputs": [],
   "source": [
    "def avalia_idade(idade):\n",
    "    if idade >= 18:\n",
    "        resultado = print(\"Sim, pode beber.\")\n",
    "    else:\n",
    "        resultado = print(\"Não pode beber.\")\n",
    "    return resultado"
   ]
  },
  {
   "cell_type": "code",
   "execution_count": 18,
   "id": "fcc93774",
   "metadata": {},
   "outputs": [
    {
     "name": "stdout",
     "output_type": "stream",
     "text": [
      "digite sua idade:28\n",
      "Sim, pode beber.\n"
     ]
    }
   ],
   "source": [
    "idade = int(input(\"digite sua idade:\"))\n",
    "avalia_idade(idade)"
   ]
  },
  {
   "cell_type": "markdown",
   "id": "d76520ad",
   "metadata": {},
   "source": [
    "### Exemplo 2:\n",
    "\n",
    "vamos criar uma função para saber quantos ovos devemos comprar no supermercado.\n",
    "\n",
    "Se na geladeira tiver menos de 6 ovos, comprar uma dúzia(12).\n",
    "\n",
    "Se na geladeira tiver entre 6 e 8 ovos, comprar meia dúzia(6).\n",
    "\n",
    "Se tiver mais que 8 ovos, não comprar (0)."
   ]
  },
  {
   "cell_type": "code",
   "execution_count": 36,
   "id": "547e693a",
   "metadata": {},
   "outputs": [],
   "source": [
    "def avalia_ovos(qtde_ovos):\n",
    "    if qtde_ovos >= 6:\n",
    "        if qtde_ovos > 8:\n",
    "            comprar = 0\n",
    "        else:\n",
    "            comprar = 6\n",
    "    else:\n",
    "        comprar = 12\n",
    "    return print(\"você precisa comprar \", comprar,\"ovos.\")"
   ]
  },
  {
   "cell_type": "code",
   "execution_count": 37,
   "id": "d377d267",
   "metadata": {},
   "outputs": [
    {
     "name": "stdout",
     "output_type": "stream",
     "text": [
      "quantos ovos tem na geladeira? 7\n",
      "você precisa comprar  6 ovos.\n"
     ]
    }
   ],
   "source": [
    "qtde_ovos = int(input(\"quantos ovos tem na geladeira? \"))\n",
    "avalia_ovos(qtde_ovos)"
   ]
  },
  {
   "cell_type": "markdown",
   "id": "2cd5e231",
   "metadata": {},
   "source": [
    "outro modo de usar a estrutura condicional é usando o ELIF quando precisamos avaliar mais de duas condições. ELIF combina \"else\" e \"if\". A sintaxe é a seguinte:\n",
    "\n",
    "<b>if</b> condicao: \n",
    "\n",
    "    #código a ser executado se a condicao1 for verdadeira\n",
    "<b>elif</b> condicao2: \n",
    "\n",
    "    #código a ser executado se a condicao2 for verdadeira\n",
    "<b> else </b>:\n",
    "\n",
    "    #código a ser executado caso nenhuma das condicoes for verdadeira"
   ]
  },
  {
   "cell_type": "code",
   "execution_count": 45,
   "id": "44e65eea",
   "metadata": {},
   "outputs": [],
   "source": [
    "def avalia_ovos2(qtde_ovos):\n",
    "    if qtde_ovos < 6:\n",
    "        comprar = 12\n",
    "    elif qtde_ovos == 6:\n",
    "        comprar = 6\n",
    "    elif qtde_ovos == 7:\n",
    "        comprar = 6\n",
    "    elif qtde_ovos == 8:\n",
    "        comprar = 6    \n",
    "    else:\n",
    "        comprar = 0\n",
    "    return print(\"você precisa comprar \", comprar,\"ovos.\")"
   ]
  },
  {
   "cell_type": "code",
   "execution_count": 47,
   "id": "91b02242",
   "metadata": {},
   "outputs": [
    {
     "name": "stdout",
     "output_type": "stream",
     "text": [
      "quantos ovos tem na geladeira? 7\n",
      "você precisa comprar  6 ovos.\n"
     ]
    }
   ],
   "source": [
    "qtde_ovos = int(input(\"quantos ovos tem na geladeira? \"))\n",
    "avalia_ovos2(qtde_ovos)"
   ]
  },
  {
   "cell_type": "code",
   "execution_count": 48,
   "id": "888fbda5",
   "metadata": {},
   "outputs": [],
   "source": [
    "# usando operador lógico \"and\"\n",
    "\n",
    "\n",
    "def avalia_ovos3(qtde_ovos):\n",
    "    if qtde_ovos < 6:\n",
    "        comprar = 12\n",
    "    elif qtde_ovos >=6 and qtde_ovos <=8:\n",
    "        comprar = 6\n",
    "    else:\n",
    "        comprar = 0\n",
    "    return print(\"você precisa comprar \", comprar,\"ovos.\")"
   ]
  },
  {
   "cell_type": "code",
   "execution_count": 49,
   "id": "bcafffc2",
   "metadata": {},
   "outputs": [
    {
     "name": "stdout",
     "output_type": "stream",
     "text": [
      "quantos ovos tem na geladeira? 7\n",
      "você precisa comprar  6 ovos.\n"
     ]
    }
   ],
   "source": [
    "qtde_ovos = int(input(\"quantos ovos tem na geladeira? \"))\n",
    "avalia_ovos3(qtde_ovos)"
   ]
  }
 ],
 "metadata": {
  "kernelspec": {
   "display_name": "Python 3 (ipykernel)",
   "language": "python",
   "name": "python3"
  },
  "language_info": {
   "codemirror_mode": {
    "name": "ipython",
    "version": 3
   },
   "file_extension": ".py",
   "mimetype": "text/x-python",
   "name": "python",
   "nbconvert_exporter": "python",
   "pygments_lexer": "ipython3",
   "version": "3.10.9"
  }
 },
 "nbformat": 4,
 "nbformat_minor": 5
}
