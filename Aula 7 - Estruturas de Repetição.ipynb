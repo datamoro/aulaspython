{
 "cells": [
  {
   "cell_type": "markdown",
   "id": "5d304ce6",
   "metadata": {},
   "source": [
    "## O que é uma estrutura de repetição?\n",
    "\n",
    "\n",
    "As estruturas de repetição são usadas para executar um bloco de código várias vezes, com base em uma condição ou um conjunto de elementos. Existem duas estruturas de repetição principais em Python: o loop <b>for</b> e o <b>loop while</b>. "
   ]
  },
  {
   "cell_type": "markdown",
   "id": "58ace8eb",
   "metadata": {},
   "source": [
    "### Exemplo de aplicação:\n",
    "\n",
    "Crie um progama que percorra um texto e transforme as palavras em letra maiúscula, imprimindo-as sequencialmente uma abaixo da outra.\n"
   ]
  },
  {
   "cell_type": "code",
   "execution_count": 27,
   "id": "ec4d9c50",
   "metadata": {},
   "outputs": [
    {
     "name": "stdout",
     "output_type": "stream",
     "text": [
      "digite um texto:Era uma VEZ um lobo viajante que VIAJAVA a procura de SEU GRANDE AMIGO. Seu nome era Felix, que quer dizer \"FELIZ\".\n"
     ]
    }
   ],
   "source": [
    "texto = input(\"digite um texto:\")"
   ]
  },
  {
   "cell_type": "code",
   "execution_count": 28,
   "id": "bfb35ec2",
   "metadata": {},
   "outputs": [],
   "source": [
    "palavras = texto.split()"
   ]
  },
  {
   "cell_type": "code",
   "execution_count": 16,
   "id": "2febfa77",
   "metadata": {},
   "outputs": [
    {
     "name": "stdout",
     "output_type": "stream",
     "text": [
      "['era', 'uma', 'vez', 'um', 'lobo']\n"
     ]
    }
   ],
   "source": [
    "print(palavras)"
   ]
  },
  {
   "cell_type": "code",
   "execution_count": 30,
   "id": "b1e7bdbd",
   "metadata": {},
   "outputs": [
    {
     "name": "stdout",
     "output_type": "stream",
     "text": [
      "ERA\n",
      "UMA\n",
      "VEZ\n",
      "UM\n",
      "LOBO\n",
      "VIAJANTE\n",
      "QUE\n",
      "VIAJAVA\n",
      "A\n",
      "PROCURA\n",
      "DE\n",
      "SEU\n",
      "GRANDE\n",
      "AMIGO.\n",
      "SEU\n",
      "NOME\n",
      "ERA\n",
      "FELIX,\n",
      "QUE\n",
      "QUER\n",
      "DIZER\n",
      "\"FELIZ\".\n"
     ]
    }
   ],
   "source": [
    "palavras = texto.split()            # o comando .split() separa uma cadeia de caracteres em conjuntos menores, de acordo com um separador.\n",
    "\n",
    "for item in palavras:\n",
    "    transformacao = item.upper()    #modificacao que deseja fazer: transformar em maiuscula (upper) ou minuscula (lower)\n",
    "    print(transformacao)            #imprimir a palavras"
   ]
  },
  {
   "cell_type": "markdown",
   "id": "a6d591a8",
   "metadata": {},
   "source": [
    "### Exemplo de aplicação 2:\n",
    "Crie um progama que calcule a soma dos números <b> pares </b> de 1 a 100."
   ]
  },
  {
   "cell_type": "code",
   "execution_count": 46,
   "id": "f6468ec0",
   "metadata": {},
   "outputs": [
    {
     "name": "stdout",
     "output_type": "stream",
     "text": [
      "insira o valor inicial:2\n",
      "insira o valor final:20\n",
      "o valor da soma dos numeros pares de 2 a 20 é igual a:  110\n",
      "o loop se repetiu por  10 vezes ate parar.\n"
     ]
    }
   ],
   "source": [
    "valor_inicial = int(input(\"insira o valor inicial:\"))\n",
    "valor_final = int(input(\"insira o valor final:\"))\n",
    "soma = 0\n",
    "qtd_numeros = 0\n",
    "\n",
    "for valor in range(valor_inicial,valor_final + 1,2):\n",
    "    soma = soma + valor\n",
    "    qtd_numeros = qtd_numeros+1\n",
    "\n",
    "    \n",
    "    \n",
    "print(f\"o valor da soma dos numeros pares de {valor_inicial} a {valor_final} é igual a: \",soma)\n",
    "print(\"o loop se repetiu por \",qtd_numeros,\"vezes ate parar.\")"
   ]
  },
  {
   "cell_type": "markdown",
   "id": "a8bb45fd",
   "metadata": {},
   "source": [
    "### Exemplo 3:\n",
    "reescreva o exercicio anterior usando WHILE-LOOP."
   ]
  },
  {
   "cell_type": "code",
   "execution_count": 48,
   "id": "11ac3f75",
   "metadata": {},
   "outputs": [
    {
     "name": "stdout",
     "output_type": "stream",
     "text": [
      "insira o valor inicial:2\n",
      "insira o valor final:20\n",
      "o valor da soma dos numeros pares de 2 a 20 é igual a:  110\n",
      "o loop se repetiu por  10 vezes ate parar.\n"
     ]
    }
   ],
   "source": [
    "valor_inicial = int(input(\"insira o valor inicial:\"))\n",
    "valor_final = int(input(\"insira o valor final:\"))\n",
    "soma = 0\n",
    "qtd_numeros = 0\n",
    "valor = valor_inicial\n",
    "\n",
    "while valor <= valor_final:\n",
    "    soma = soma + valor\n",
    "    qtd_numeros = qtd_numeros+1\n",
    "    valor = valor + 2\n",
    "\n",
    "\n",
    "print(f\"o valor da soma dos numeros pares de {valor_inicial} a {valor_final} é igual a: \",soma)\n",
    "print(\"o loop se repetiu por \",qtd_numeros,\"vezes ate parar.\")"
   ]
  }
 ],
 "metadata": {
  "kernelspec": {
   "display_name": "Python 3 (ipykernel)",
   "language": "python",
   "name": "python3"
  },
  "language_info": {
   "codemirror_mode": {
    "name": "ipython",
    "version": 3
   },
   "file_extension": ".py",
   "mimetype": "text/x-python",
   "name": "python",
   "nbconvert_exporter": "python",
   "pygments_lexer": "ipython3",
   "version": "3.10.9"
  }
 },
 "nbformat": 4,
 "nbformat_minor": 5
}
